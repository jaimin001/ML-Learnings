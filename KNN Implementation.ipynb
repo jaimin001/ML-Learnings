{
 "cells": [
  {
   "cell_type": "code",
   "execution_count": 1,
   "id": "4fe69146-d071-4390-b365-ca2bc9dc37b7",
   "metadata": {},
   "outputs": [],
   "source": [
    "class KNearestClassifier:\n",
    "    def __init__(self, n):\n",
    "        self.saved_x = np.array([])\n",
    "        self.saved_y = np.array([])\n",
    "        self.n = n\n",
    "\n",
    "    def fit(self, x, y):\n",
    "        self.saved_x = x\n",
    "        self.saved_y = y\n",
    "\n",
    "    def distance(self, x_f, x):\n",
    "        return abs(x_f - x)\n",
    "\n",
    "    def predict(self, x_test):\n",
    "        listings = []\n",
    "        for i in range(len(self.saved_x)):\n",
    "            listings.append([self.distance(x_test[i], self.saved_x[i]), self.saved_y[i]])\n",
    "        listings = listings[:self.n]\n",
    "\n",
    "        # Make a Max Heap"
   ]
  },
  {
   "cell_type": "code",
   "execution_count": null,
   "id": "bd6ba561-be83-4f35-8ba7-f8a3b4491096",
   "metadata": {},
   "outputs": [],
   "source": []
  }
 ],
 "metadata": {
  "kernelspec": {
   "display_name": "Python 3",
   "language": "python",
   "name": "python3"
  },
  "language_info": {
   "codemirror_mode": {
    "name": "ipython",
    "version": 3
   },
   "file_extension": ".py",
   "mimetype": "text/x-python",
   "name": "python",
   "nbconvert_exporter": "python",
   "pygments_lexer": "ipython3",
   "version": "3.8.8"
  }
 },
 "nbformat": 4,
 "nbformat_minor": 5
}
